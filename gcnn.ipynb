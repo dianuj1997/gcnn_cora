{
 "cells": [
  {
   "cell_type": "code",
   "execution_count": 11,
   "id": "4431c714",
   "metadata": {},
   "outputs": [],
   "source": [
    "import dgl\n",
    "import dgl.function as fn\n",
    "import torch as th\n",
    "import torch.nn as nn\n",
    "import torch.nn.functional as F\n",
    "from dgl import DGLGraph\n",
    "from dgl.nn import GraphConv\n",
    "import numpy as np\n",
    "import matplotlib.pyplot as plt\n",
    "import pandas as pd"
   ]
  },
  {
   "cell_type": "code",
   "execution_count": 2,
   "id": "e25f5ea1",
   "metadata": {},
   "outputs": [
    {
     "name": "stdout",
     "output_type": "stream",
     "text": [
      "Downloading C:\\Users\\dianu\\.dgl\\cora_v2.zip from https://data.dgl.ai/dataset/cora_v2.zip...\n",
      "Extracting file to C:\\Users\\dianu\\.dgl\\cora_v2\n",
      "Finished data loading and preprocessing.\n",
      "  NumNodes: 2708\n",
      "  NumEdges: 10556\n",
      "  NumFeats: 1433\n",
      "  NumClasses: 7\n",
      "  NumTrainingSamples: 140\n",
      "  NumValidationSamples: 500\n",
      "  NumTestSamples: 1000\n",
      "Done saving data into cached files.\n"
     ]
    }
   ],
   "source": [
    "from dgl.data import CoraGraphDataset\n",
    "\n",
    "dataset = CoraGraphDataset()\n",
    "g = dataset[0]\n",
    "features = g.ndata['feat']\n",
    "labels = g.ndata['label']\n",
    "train_mask = g.ndata['train_mask']\n",
    "test_mask = g.ndata['test_mask']"
   ]
  },
  {
   "cell_type": "code",
   "execution_count": 4,
   "id": "ca7b3bf1",
   "metadata": {},
   "outputs": [],
   "source": [
    "class Net(nn.Module):\n",
    "    def __init__(self):\n",
    "        super(Net, self).__init__()\n",
    "        self.layer1 = GraphConv(1433, 8*16) #activation default=None\n",
    "        self.layer2 = GraphConv(8*16, 7)    #activation default=None\n",
    "\n",
    "\n",
    "    def forward(self, g, features):\n",
    "        x1 = F.relu(self.layer1(g, features)) #ReLU activation function\n",
    "        x2 = self.layer2(g, x1)\n",
    "        return x2\n",
    "net = Net()"
   ]
  },
  {
   "cell_type": "code",
   "execution_count": 7,
   "id": "a2eb9657",
   "metadata": {},
   "outputs": [],
   "source": [
    "g.add_edges(g.nodes(), g.nodes())\n",
    "optimizer = th.optim.Adam(net.parameters(), lr=1e-2)\n",
    "loss_list=[]\n",
    "acc_list=[]\n",
    "all_logits=[]\n",
    "for epoch in range(3):\n",
    "    net.train()\n",
    "    logits = net(g, features)\n",
    "    \n",
    "    #print(logits)\n",
    "    logp = F.log_softmax(logits, 1)\n",
    "    all_logits.append(logp)\n",
    "    loss = F.nll_loss(logp[train_mask], labels[train_mask])\n",
    "\n",
    "    optimizer.zero_grad()\n",
    "    loss.backward()\n",
    "    optimizer.step()\n",
    "\n",
    "    loss_list.append(loss.item())\n"
   ]
  },
  {
   "cell_type": "code",
   "execution_count": 10,
   "id": "f7fee40a",
   "metadata": {},
   "outputs": [
    {
     "data": {
      "text/plain": [
       "Text(0, 0.5, 'Loss')"
      ]
     },
     "execution_count": 10,
     "metadata": {},
     "output_type": "execute_result"
    },
    {
     "data": {
      "image/png": "[encoded data removed]",
      "text/plain": [
       "<Figure size 432x288 with 1 Axes>"
      ]
     },
     "metadata": {
      "needs_background": "light"
     },
     "output_type": "display_data"
    }
   ],
   "source": [
    "plt.plot(loss_list)\n",
    "plt.xlabel('Epoch')\n",
    "plt.ylabel('Loss')"
   ]
  },
  {
   "cell_type": "code",
   "execution_count": 18,
   "id": "33bbe5fd",
   "metadata": {},
   "outputs": [],
   "source": [
    "df=pd.DataFrame(all_logits[2][:].detach().numpy())\n",
    "lista=[]\n",
    "for i in range(len(labels)):\n",
    "  lista.append((all_logits[2][i].detach().numpy().argmax()))\n",
    "\n",
    "df['Class']=pd.Series(lista)"
   ]
  },
  {
   "cell_type": "code",
   "execution_count": 19,
   "id": "3da03e74",
   "metadata": {},
   "outputs": [
    {
     "data": {
      "text/html": [
       "<div>\n",
       "<style scoped>\n",
       "    .dataframe tbody tr th:only-of-type {\n",
       "        vertical-align: middle;\n",
       "    }\n",
       "\n",
       "    .dataframe tbody tr th {\n",
       "        vertical-align: top;\n",
       "    }\n",
       "\n",
       "    .dataframe thead th {\n",
       "        text-align: right;\n",
       "    }\n",
       "</style>\n",
       "<table border=\"1\" class=\"dataframe\">\n",
       "  <thead>\n",
       "    <tr style=\"text-align: right;\">\n",
       "      <th></th>\n",
       "      <th>0</th>\n",
       "      <th>1</th>\n",
       "      <th>2</th>\n",
       "      <th>3</th>\n",
       "      <th>4</th>\n",
       "      <th>5</th>\n",
       "      <th>6</th>\n",
       "      <th>Class</th>\n",
       "    </tr>\n",
       "  </thead>\n",
       "  <tbody>\n",
       "    <tr>\n",
       "      <th>0</th>\n",
       "      <td>-1.879778</td>\n",
       "      <td>-2.011703</td>\n",
       "      <td>-2.026190</td>\n",
       "      <td>-1.993690</td>\n",
       "      <td>-1.809772</td>\n",
       "      <td>-1.989927</td>\n",
       "      <td>-1.929716</td>\n",
       "      <td>4</td>\n",
       "    </tr>\n",
       "    <tr>\n",
       "      <th>1</th>\n",
       "      <td>-1.886505</td>\n",
       "      <td>-2.010800</td>\n",
       "      <td>-2.016898</td>\n",
       "      <td>-1.991079</td>\n",
       "      <td>-1.814954</td>\n",
       "      <td>-1.984793</td>\n",
       "      <td>-1.933455</td>\n",
       "      <td>4</td>\n",
       "    </tr>\n",
       "    <tr>\n",
       "      <th>2</th>\n",
       "      <td>-1.887281</td>\n",
       "      <td>-2.004081</td>\n",
       "      <td>-2.018195</td>\n",
       "      <td>-1.987208</td>\n",
       "      <td>-1.828184</td>\n",
       "      <td>-1.982687</td>\n",
       "      <td>-1.928568</td>\n",
       "      <td>4</td>\n",
       "    </tr>\n",
       "    <tr>\n",
       "      <th>3</th>\n",
       "      <td>-1.872376</td>\n",
       "      <td>-2.014609</td>\n",
       "      <td>-2.039008</td>\n",
       "      <td>-1.998898</td>\n",
       "      <td>-1.798247</td>\n",
       "      <td>-1.992845</td>\n",
       "      <td>-1.928740</td>\n",
       "      <td>4</td>\n",
       "    </tr>\n",
       "    <tr>\n",
       "      <th>4</th>\n",
       "      <td>-1.888006</td>\n",
       "      <td>-2.001047</td>\n",
       "      <td>-2.020947</td>\n",
       "      <td>-1.989963</td>\n",
       "      <td>-1.829480</td>\n",
       "      <td>-1.973898</td>\n",
       "      <td>-1.932462</td>\n",
       "      <td>4</td>\n",
       "    </tr>\n",
       "  </tbody>\n",
       "</table>\n",
       "</div>"
      ],
      "text/plain": [
       "          0         1         2         3         4         5         6  Class\n",
       "0 -1.879778 -2.011703 -2.026190 -1.993690 -1.809772 -1.989927 -1.929716      4\n",
       "1 -1.886505 -2.010800 -2.016898 -1.991079 -1.814954 -1.984793 -1.933455      4\n",
       "2 -1.887281 -2.004081 -2.018195 -1.987208 -1.828184 -1.982687 -1.928568      4\n",
       "3 -1.872376 -2.014609 -2.039008 -1.998898 -1.798247 -1.992845 -1.928740      4\n",
       "4 -1.888006 -2.001047 -2.020947 -1.989963 -1.829480 -1.973898 -1.932462      4"
      ]
     },
     "execution_count": 19,
     "metadata": {},
     "output_type": "execute_result"
    }
   ],
   "source": [
    "df.head()"
   ]
  }
 ],
 "metadata": {
  "kernelspec": {
   "display_name": "Python 3",
   "language": "python",
   "name": "python3"
  },
  "language_info": {
   "codemirror_mode": {
    "name": "ipython",
    "version": 3
   },
   "file_extension": ".py",
   "mimetype": "text/x-python",
   "name": "python",
   "nbconvert_exporter": "python",
   "pygments_lexer": "ipython3",
   "version": "3.8.8"
  }
 },
 "nbformat": 4,
 "nbformat_minor": 5
}
